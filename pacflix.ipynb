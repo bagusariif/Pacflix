{
 "cells": [
  {
   "cell_type": "code",
   "execution_count": 1,
   "metadata": {},
   "outputs": [],
   "source": [
    "from pacflix import pacflix"
   ]
  },
  {
   "cell_type": "code",
   "execution_count": 2,
   "metadata": {},
   "outputs": [
    {
     "name": "stdout",
     "output_type": "stream",
     "text": [
      "Your Account has been successfully created, share this code 'self.user_name' to your friends to get some benefits.\n",
      "Your Account has been successfully created, share this code 'self.user_name' to your friends to get some benefits.\n"
     ]
    }
   ],
   "source": [
    "bagus = pacflix(\"Bagus\")\n",
    "ana = pacflix(\"Ana\")"
   ]
  },
  {
   "cell_type": "code",
   "execution_count": 4,
   "metadata": {},
   "outputs": [
    {
     "name": "stdout",
     "output_type": "stream",
     "text": [
      "You do not have any subs yet.\n",
      "You do not have any subs yet.\n"
     ]
    }
   ],
   "source": [
    "bagus.check_plan()\n",
    "ana.check_plan()"
   ]
  },
  {
   "cell_type": "code",
   "execution_count": 12,
   "metadata": {},
   "outputs": [
    {
     "name": "stdout",
     "output_type": "stream",
     "text": [
      "List of Pacflix plan:\n",
      "1. Basic Plan\n",
      "SD Resolution, 1 device, Movies, Rp.120.000,-.\n",
      "\n",
      "2. Standard Plan\n",
      "HD Resolution, 2 device, Movies + Sport, Rp.160.000,-.\n",
      "\n",
      "3. Premium Plan\n",
      "UHD Resolution, 4 device, Movies + Sport + Original Series, Rp.200.000,-.\n"
     ]
    }
   ],
   "source": [
    "bagus.purchase(\"Standard Plan\", )"
   ]
  },
  {
   "cell_type": "code",
   "execution_count": null,
   "metadata": {},
   "outputs": [],
   "source": []
  }
 ],
 "metadata": {
  "kernelspec": {
   "display_name": "venv",
   "language": "python",
   "name": "python3"
  },
  "language_info": {
   "codemirror_mode": {
    "name": "ipython",
    "version": 3
   },
   "file_extension": ".py",
   "mimetype": "text/x-python",
   "name": "python",
   "nbconvert_exporter": "python",
   "pygments_lexer": "ipython3",
   "version": "3.9.6"
  }
 },
 "nbformat": 4,
 "nbformat_minor": 2
}
